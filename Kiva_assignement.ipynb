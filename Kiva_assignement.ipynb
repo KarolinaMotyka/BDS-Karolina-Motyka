{
 "cells": [
  {
   "cell_type": "code",
   "execution_count": 188,
   "metadata": {},
   "outputs": [],
   "source": [
    "import pandas as pd\n",
    "import matplotlib.pyplot as plt\n",
    "import seaborn as sns"
   ]
  },
  {
   "cell_type": "code",
   "execution_count": 142,
   "metadata": {},
   "outputs": [],
   "source": [
    "file_0=pd.read_csv('kiva_loans_part_0.csv')\n",
    "file_1=pd.read_csv('kiva_loans_part_1.csv')\n",
    "file_2=pd.read_csv('kiva_loans_part_2.csv')"
   ]
  },
  {
   "cell_type": "code",
   "execution_count": 143,
   "metadata": {},
   "outputs": [],
   "source": [
    "df_loans=pd.concat([file_0,file_1,file_2], ignore_index=True)"
   ]
  },
  {
   "cell_type": "code",
   "execution_count": 144,
   "metadata": {},
   "outputs": [
    {
     "data": {
      "text/plain": [
       "(671205, 20)"
      ]
     },
     "execution_count": 144,
     "metadata": {},
     "output_type": "execute_result"
    }
   ],
   "source": [
    "df_loans.shape"
   ]
  },
  {
   "cell_type": "code",
   "execution_count": 145,
   "metadata": {},
   "outputs": [
    {
     "data": {
      "text/plain": [
       "RangeIndex(start=0, stop=671205, step=1)"
      ]
     },
     "execution_count": 145,
     "metadata": {},
     "output_type": "execute_result"
    }
   ],
   "source": [
    "df_loans.index"
   ]
  },
  {
   "cell_type": "code",
   "execution_count": 146,
   "metadata": {},
   "outputs": [
    {
     "data": {
      "text/html": [
       "<div>\n",
       "<style scoped>\n",
       "    .dataframe tbody tr th:only-of-type {\n",
       "        vertical-align: middle;\n",
       "    }\n",
       "\n",
       "    .dataframe tbody tr th {\n",
       "        vertical-align: top;\n",
       "    }\n",
       "\n",
       "    .dataframe thead th {\n",
       "        text-align: right;\n",
       "    }\n",
       "</style>\n",
       "<table border=\"1\" class=\"dataframe\">\n",
       "  <thead>\n",
       "    <tr style=\"text-align: right;\">\n",
       "      <th></th>\n",
       "      <th>id</th>\n",
       "      <th>funded_amount</th>\n",
       "      <th>loan_amount</th>\n",
       "      <th>activity</th>\n",
       "      <th>sector</th>\n",
       "      <th>use</th>\n",
       "      <th>country_code</th>\n",
       "      <th>country</th>\n",
       "      <th>region</th>\n",
       "      <th>currency</th>\n",
       "      <th>partner_id</th>\n",
       "      <th>posted_time</th>\n",
       "      <th>disbursed_time</th>\n",
       "      <th>funded_time</th>\n",
       "      <th>term_in_months</th>\n",
       "      <th>lender_count</th>\n",
       "      <th>tags</th>\n",
       "      <th>borrower_genders</th>\n",
       "      <th>repayment_interval</th>\n",
       "      <th>date</th>\n",
       "    </tr>\n",
       "  </thead>\n",
       "  <tbody>\n",
       "    <tr>\n",
       "      <th>0</th>\n",
       "      <td>653051</td>\n",
       "      <td>300.0</td>\n",
       "      <td>300.0</td>\n",
       "      <td>Fruits &amp; Vegetables</td>\n",
       "      <td>Food</td>\n",
       "      <td>To buy seasonal, fresh fruits to sell.</td>\n",
       "      <td>PK</td>\n",
       "      <td>Pakistan</td>\n",
       "      <td>Lahore</td>\n",
       "      <td>PKR</td>\n",
       "      <td>247.0</td>\n",
       "      <td>2014-01-01 06:12:39+00:00</td>\n",
       "      <td>2013-12-17 08:00:00+00:00</td>\n",
       "      <td>2014-01-02 10:06:32+00:00</td>\n",
       "      <td>12.0</td>\n",
       "      <td>12</td>\n",
       "      <td>NaN</td>\n",
       "      <td>female</td>\n",
       "      <td>irregular</td>\n",
       "      <td>2014-01-01</td>\n",
       "    </tr>\n",
       "    <tr>\n",
       "      <th>1</th>\n",
       "      <td>653053</td>\n",
       "      <td>575.0</td>\n",
       "      <td>575.0</td>\n",
       "      <td>Rickshaw</td>\n",
       "      <td>Transportation</td>\n",
       "      <td>to repair and maintain the auto rickshaw used ...</td>\n",
       "      <td>PK</td>\n",
       "      <td>Pakistan</td>\n",
       "      <td>Lahore</td>\n",
       "      <td>PKR</td>\n",
       "      <td>247.0</td>\n",
       "      <td>2014-01-01 06:51:08+00:00</td>\n",
       "      <td>2013-12-17 08:00:00+00:00</td>\n",
       "      <td>2014-01-02 09:17:23+00:00</td>\n",
       "      <td>11.0</td>\n",
       "      <td>14</td>\n",
       "      <td>NaN</td>\n",
       "      <td>female, female</td>\n",
       "      <td>irregular</td>\n",
       "      <td>2014-01-01</td>\n",
       "    </tr>\n",
       "    <tr>\n",
       "      <th>2</th>\n",
       "      <td>653068</td>\n",
       "      <td>150.0</td>\n",
       "      <td>150.0</td>\n",
       "      <td>Transportation</td>\n",
       "      <td>Transportation</td>\n",
       "      <td>To repair their old cycle-van and buy another ...</td>\n",
       "      <td>IN</td>\n",
       "      <td>India</td>\n",
       "      <td>Maynaguri</td>\n",
       "      <td>INR</td>\n",
       "      <td>334.0</td>\n",
       "      <td>2014-01-01 09:58:07+00:00</td>\n",
       "      <td>2013-12-17 08:00:00+00:00</td>\n",
       "      <td>2014-01-01 16:01:36+00:00</td>\n",
       "      <td>43.0</td>\n",
       "      <td>6</td>\n",
       "      <td>user_favorite, user_favorite</td>\n",
       "      <td>female</td>\n",
       "      <td>bullet</td>\n",
       "      <td>2014-01-01</td>\n",
       "    </tr>\n",
       "    <tr>\n",
       "      <th>3</th>\n",
       "      <td>653063</td>\n",
       "      <td>200.0</td>\n",
       "      <td>200.0</td>\n",
       "      <td>Embroidery</td>\n",
       "      <td>Arts</td>\n",
       "      <td>to purchase an embroidery machine and a variet...</td>\n",
       "      <td>PK</td>\n",
       "      <td>Pakistan</td>\n",
       "      <td>Lahore</td>\n",
       "      <td>PKR</td>\n",
       "      <td>247.0</td>\n",
       "      <td>2014-01-01 08:03:11+00:00</td>\n",
       "      <td>2013-12-24 08:00:00+00:00</td>\n",
       "      <td>2014-01-01 13:00:00+00:00</td>\n",
       "      <td>11.0</td>\n",
       "      <td>8</td>\n",
       "      <td>NaN</td>\n",
       "      <td>female</td>\n",
       "      <td>irregular</td>\n",
       "      <td>2014-01-01</td>\n",
       "    </tr>\n",
       "    <tr>\n",
       "      <th>4</th>\n",
       "      <td>653084</td>\n",
       "      <td>400.0</td>\n",
       "      <td>400.0</td>\n",
       "      <td>Milk Sales</td>\n",
       "      <td>Food</td>\n",
       "      <td>to purchase one buffalo.</td>\n",
       "      <td>PK</td>\n",
       "      <td>Pakistan</td>\n",
       "      <td>Abdul Hakeem</td>\n",
       "      <td>PKR</td>\n",
       "      <td>245.0</td>\n",
       "      <td>2014-01-01 11:53:19+00:00</td>\n",
       "      <td>2013-12-17 08:00:00+00:00</td>\n",
       "      <td>2014-01-01 19:18:51+00:00</td>\n",
       "      <td>14.0</td>\n",
       "      <td>16</td>\n",
       "      <td>NaN</td>\n",
       "      <td>female</td>\n",
       "      <td>monthly</td>\n",
       "      <td>2014-01-01</td>\n",
       "    </tr>\n",
       "  </tbody>\n",
       "</table>\n",
       "</div>"
      ],
      "text/plain": [
       "       id  funded_amount  loan_amount             activity          sector  \\\n",
       "0  653051          300.0        300.0  Fruits & Vegetables            Food   \n",
       "1  653053          575.0        575.0             Rickshaw  Transportation   \n",
       "2  653068          150.0        150.0       Transportation  Transportation   \n",
       "3  653063          200.0        200.0           Embroidery            Arts   \n",
       "4  653084          400.0        400.0           Milk Sales            Food   \n",
       "\n",
       "                                                 use country_code   country  \\\n",
       "0            To buy seasonal, fresh fruits to sell.            PK  Pakistan   \n",
       "1  to repair and maintain the auto rickshaw used ...           PK  Pakistan   \n",
       "2  To repair their old cycle-van and buy another ...           IN     India   \n",
       "3  to purchase an embroidery machine and a variet...           PK  Pakistan   \n",
       "4                           to purchase one buffalo.           PK  Pakistan   \n",
       "\n",
       "         region currency  partner_id                posted_time  \\\n",
       "0        Lahore      PKR       247.0  2014-01-01 06:12:39+00:00   \n",
       "1        Lahore      PKR       247.0  2014-01-01 06:51:08+00:00   \n",
       "2     Maynaguri      INR       334.0  2014-01-01 09:58:07+00:00   \n",
       "3        Lahore      PKR       247.0  2014-01-01 08:03:11+00:00   \n",
       "4  Abdul Hakeem      PKR       245.0  2014-01-01 11:53:19+00:00   \n",
       "\n",
       "              disbursed_time                funded_time  term_in_months  \\\n",
       "0  2013-12-17 08:00:00+00:00  2014-01-02 10:06:32+00:00            12.0   \n",
       "1  2013-12-17 08:00:00+00:00  2014-01-02 09:17:23+00:00            11.0   \n",
       "2  2013-12-17 08:00:00+00:00  2014-01-01 16:01:36+00:00            43.0   \n",
       "3  2013-12-24 08:00:00+00:00  2014-01-01 13:00:00+00:00            11.0   \n",
       "4  2013-12-17 08:00:00+00:00  2014-01-01 19:18:51+00:00            14.0   \n",
       "\n",
       "   lender_count                          tags borrower_genders  \\\n",
       "0            12                           NaN           female   \n",
       "1            14                           NaN   female, female   \n",
       "2             6  user_favorite, user_favorite           female   \n",
       "3             8                           NaN           female   \n",
       "4            16                           NaN           female   \n",
       "\n",
       "  repayment_interval        date  \n",
       "0          irregular  2014-01-01  \n",
       "1          irregular  2014-01-01  \n",
       "2             bullet  2014-01-01  \n",
       "3          irregular  2014-01-01  \n",
       "4            monthly  2014-01-01  "
      ]
     },
     "execution_count": 146,
     "metadata": {},
     "output_type": "execute_result"
    }
   ],
   "source": [
    "df_loans.head(5)"
   ]
  },
  {
   "cell_type": "code",
   "execution_count": 147,
   "metadata": {},
   "outputs": [
    {
     "data": {
      "text/plain": [
       "['id',\n",
       " 'funded_amount',\n",
       " 'loan_amount',\n",
       " 'activity',\n",
       " 'sector',\n",
       " 'use',\n",
       " 'country_code',\n",
       " 'country',\n",
       " 'region',\n",
       " 'currency',\n",
       " 'partner_id',\n",
       " 'posted_time',\n",
       " 'disbursed_time',\n",
       " 'funded_time',\n",
       " 'term_in_months',\n",
       " 'lender_count',\n",
       " 'tags',\n",
       " 'borrower_genders',\n",
       " 'repayment_interval',\n",
       " 'date']"
      ]
     },
     "execution_count": 147,
     "metadata": {},
     "output_type": "execute_result"
    }
   ],
   "source": [
    "list(df_loans.columns)"
   ]
  },
  {
   "cell_type": "code",
   "execution_count": 148,
   "metadata": {},
   "outputs": [],
   "source": [
    "df_loans.drop(['id','partner_id', 'tags'], axis='columns', inplace=True)"
   ]
  },
  {
   "cell_type": "code",
   "execution_count": 149,
   "metadata": {},
   "outputs": [
    {
     "data": {
      "text/plain": [
       "['funded_amount',\n",
       " 'loan_amount',\n",
       " 'activity',\n",
       " 'sector',\n",
       " 'use',\n",
       " 'country_code',\n",
       " 'country',\n",
       " 'region',\n",
       " 'currency',\n",
       " 'posted_time',\n",
       " 'disbursed_time',\n",
       " 'funded_time',\n",
       " 'term_in_months',\n",
       " 'lender_count',\n",
       " 'borrower_genders',\n",
       " 'repayment_interval',\n",
       " 'date']"
      ]
     },
     "execution_count": 149,
     "metadata": {},
     "output_type": "execute_result"
    }
   ],
   "source": [
    "list(df_loans.columns)"
   ]
  },
  {
   "cell_type": "code",
   "execution_count": 150,
   "metadata": {},
   "outputs": [
    {
     "name": "stdout",
     "output_type": "stream",
     "text": [
      "funded_amount             0\n",
      "loan_amount               0\n",
      "activity                  0\n",
      "sector                    0\n",
      "use                    4232\n",
      "country_code              8\n",
      "country                   0\n",
      "region                56800\n",
      "currency                  0\n",
      "posted_time               0\n",
      "disbursed_time         2396\n",
      "funded_time           48331\n",
      "term_in_months            0\n",
      "lender_count              0\n",
      "borrower_genders       4221\n",
      "repayment_interval        0\n",
      "date                      0\n",
      "dtype: int64\n"
     ]
    }
   ],
   "source": [
    "print(df_loans.isna().sum())"
   ]
  },
  {
   "cell_type": "code",
   "execution_count": 151,
   "metadata": {},
   "outputs": [],
   "source": [
    "df_loans.dropna(subset=['use', 'borrower_genders', 'country'], inplace=True)\n"
   ]
  },
  {
   "cell_type": "code",
   "execution_count": 152,
   "metadata": {},
   "outputs": [
    {
     "name": "stdout",
     "output_type": "stream",
     "text": [
      "funded_amount             0\n",
      "loan_amount               0\n",
      "activity                  0\n",
      "sector                    0\n",
      "use                       0\n",
      "country_code              8\n",
      "country                   0\n",
      "region                52573\n",
      "currency                  0\n",
      "posted_time               0\n",
      "disbursed_time         1976\n",
      "funded_time           47643\n",
      "term_in_months            0\n",
      "lender_count              0\n",
      "borrower_genders          0\n",
      "repayment_interval        0\n",
      "date                      0\n",
      "dtype: int64\n"
     ]
    }
   ],
   "source": [
    "print(df_loans.isna().sum())"
   ]
  },
  {
   "cell_type": "code",
   "execution_count": 153,
   "metadata": {},
   "outputs": [
    {
     "data": {
      "text/plain": [
       "666973"
      ]
     },
     "execution_count": 153,
     "metadata": {},
     "output_type": "execute_result"
    }
   ],
   "source": [
    "len(df_loans)"
   ]
  },
  {
   "cell_type": "markdown",
   "metadata": {},
   "source": [
    "Calculate the percentage of missing data for each column\n",
    "\n"
   ]
  },
  {
   "cell_type": "code",
   "execution_count": 154,
   "metadata": {},
   "outputs": [
    {
     "name": "stdout",
     "output_type": "stream",
     "text": [
      "funded_amount         0.000000\n",
      "loan_amount           0.000000\n",
      "activity              0.000000\n",
      "sector                0.000000\n",
      "use                   0.000000\n",
      "country_code          0.001199\n",
      "country               0.000000\n",
      "region                7.882328\n",
      "currency              0.000000\n",
      "posted_time           0.000000\n",
      "disbursed_time        0.296264\n",
      "funded_time           7.143168\n",
      "term_in_months        0.000000\n",
      "lender_count          0.000000\n",
      "borrower_genders      0.000000\n",
      "repayment_interval    0.000000\n",
      "date                  0.000000\n",
      "dtype: float64\n"
     ]
    }
   ],
   "source": [
    "missing_percentage = df_loans.isna().mean() * 100\n",
    "\n",
    "print(missing_percentage)"
   ]
  },
  {
   "cell_type": "code",
   "execution_count": 155,
   "metadata": {},
   "outputs": [
    {
     "data": {
      "text/plain": [
       "(666973, 17)"
      ]
     },
     "execution_count": 155,
     "metadata": {},
     "output_type": "execute_result"
    }
   ],
   "source": [
    "df_loans.shape"
   ]
  },
  {
   "cell_type": "code",
   "execution_count": 156,
   "metadata": {},
   "outputs": [],
   "source": [
    "# Filter out rows where 'funded_time' is not NaN\n",
    "\n",
    "df_funded_time = df_loans[~df_loans['funded_time'].isna()]\n"
   ]
  },
  {
   "cell_type": "code",
   "execution_count": 157,
   "metadata": {},
   "outputs": [
    {
     "data": {
      "text/html": [
       "<div>\n",
       "<style scoped>\n",
       "    .dataframe tbody tr th:only-of-type {\n",
       "        vertical-align: middle;\n",
       "    }\n",
       "\n",
       "    .dataframe tbody tr th {\n",
       "        vertical-align: top;\n",
       "    }\n",
       "\n",
       "    .dataframe thead th {\n",
       "        text-align: right;\n",
       "    }\n",
       "</style>\n",
       "<table border=\"1\" class=\"dataframe\">\n",
       "  <thead>\n",
       "    <tr style=\"text-align: right;\">\n",
       "      <th></th>\n",
       "      <th>funded_amount</th>\n",
       "      <th>loan_amount</th>\n",
       "      <th>activity</th>\n",
       "      <th>sector</th>\n",
       "      <th>use</th>\n",
       "      <th>country_code</th>\n",
       "      <th>country</th>\n",
       "      <th>region</th>\n",
       "      <th>currency</th>\n",
       "      <th>posted_time</th>\n",
       "      <th>disbursed_time</th>\n",
       "      <th>funded_time</th>\n",
       "      <th>term_in_months</th>\n",
       "      <th>lender_count</th>\n",
       "      <th>borrower_genders</th>\n",
       "      <th>repayment_interval</th>\n",
       "      <th>date</th>\n",
       "    </tr>\n",
       "  </thead>\n",
       "  <tbody>\n",
       "    <tr>\n",
       "      <th>0</th>\n",
       "      <td>300.0</td>\n",
       "      <td>300.0</td>\n",
       "      <td>Fruits &amp; Vegetables</td>\n",
       "      <td>Food</td>\n",
       "      <td>To buy seasonal, fresh fruits to sell.</td>\n",
       "      <td>PK</td>\n",
       "      <td>Pakistan</td>\n",
       "      <td>Lahore</td>\n",
       "      <td>PKR</td>\n",
       "      <td>2014-01-01 06:12:39+00:00</td>\n",
       "      <td>2013-12-17 08:00:00+00:00</td>\n",
       "      <td>2014-01-02 10:06:32+00:00</td>\n",
       "      <td>12.0</td>\n",
       "      <td>12</td>\n",
       "      <td>female</td>\n",
       "      <td>irregular</td>\n",
       "      <td>2014-01-01</td>\n",
       "    </tr>\n",
       "    <tr>\n",
       "      <th>1</th>\n",
       "      <td>575.0</td>\n",
       "      <td>575.0</td>\n",
       "      <td>Rickshaw</td>\n",
       "      <td>Transportation</td>\n",
       "      <td>to repair and maintain the auto rickshaw used ...</td>\n",
       "      <td>PK</td>\n",
       "      <td>Pakistan</td>\n",
       "      <td>Lahore</td>\n",
       "      <td>PKR</td>\n",
       "      <td>2014-01-01 06:51:08+00:00</td>\n",
       "      <td>2013-12-17 08:00:00+00:00</td>\n",
       "      <td>2014-01-02 09:17:23+00:00</td>\n",
       "      <td>11.0</td>\n",
       "      <td>14</td>\n",
       "      <td>female, female</td>\n",
       "      <td>irregular</td>\n",
       "      <td>2014-01-01</td>\n",
       "    </tr>\n",
       "    <tr>\n",
       "      <th>2</th>\n",
       "      <td>150.0</td>\n",
       "      <td>150.0</td>\n",
       "      <td>Transportation</td>\n",
       "      <td>Transportation</td>\n",
       "      <td>To repair their old cycle-van and buy another ...</td>\n",
       "      <td>IN</td>\n",
       "      <td>India</td>\n",
       "      <td>Maynaguri</td>\n",
       "      <td>INR</td>\n",
       "      <td>2014-01-01 09:58:07+00:00</td>\n",
       "      <td>2013-12-17 08:00:00+00:00</td>\n",
       "      <td>2014-01-01 16:01:36+00:00</td>\n",
       "      <td>43.0</td>\n",
       "      <td>6</td>\n",
       "      <td>female</td>\n",
       "      <td>bullet</td>\n",
       "      <td>2014-01-01</td>\n",
       "    </tr>\n",
       "    <tr>\n",
       "      <th>3</th>\n",
       "      <td>200.0</td>\n",
       "      <td>200.0</td>\n",
       "      <td>Embroidery</td>\n",
       "      <td>Arts</td>\n",
       "      <td>to purchase an embroidery machine and a variet...</td>\n",
       "      <td>PK</td>\n",
       "      <td>Pakistan</td>\n",
       "      <td>Lahore</td>\n",
       "      <td>PKR</td>\n",
       "      <td>2014-01-01 08:03:11+00:00</td>\n",
       "      <td>2013-12-24 08:00:00+00:00</td>\n",
       "      <td>2014-01-01 13:00:00+00:00</td>\n",
       "      <td>11.0</td>\n",
       "      <td>8</td>\n",
       "      <td>female</td>\n",
       "      <td>irregular</td>\n",
       "      <td>2014-01-01</td>\n",
       "    </tr>\n",
       "    <tr>\n",
       "      <th>4</th>\n",
       "      <td>400.0</td>\n",
       "      <td>400.0</td>\n",
       "      <td>Milk Sales</td>\n",
       "      <td>Food</td>\n",
       "      <td>to purchase one buffalo.</td>\n",
       "      <td>PK</td>\n",
       "      <td>Pakistan</td>\n",
       "      <td>Abdul Hakeem</td>\n",
       "      <td>PKR</td>\n",
       "      <td>2014-01-01 11:53:19+00:00</td>\n",
       "      <td>2013-12-17 08:00:00+00:00</td>\n",
       "      <td>2014-01-01 19:18:51+00:00</td>\n",
       "      <td>14.0</td>\n",
       "      <td>16</td>\n",
       "      <td>female</td>\n",
       "      <td>monthly</td>\n",
       "      <td>2014-01-01</td>\n",
       "    </tr>\n",
       "    <tr>\n",
       "      <th>5</th>\n",
       "      <td>250.0</td>\n",
       "      <td>250.0</td>\n",
       "      <td>Services</td>\n",
       "      <td>Services</td>\n",
       "      <td>purchase leather for my business using ksh 20000.</td>\n",
       "      <td>KE</td>\n",
       "      <td>Kenya</td>\n",
       "      <td>NaN</td>\n",
       "      <td>KES</td>\n",
       "      <td>2014-01-01 10:06:19+00:00</td>\n",
       "      <td>2014-01-30 01:42:48+00:00</td>\n",
       "      <td>2014-01-29 14:14:57+00:00</td>\n",
       "      <td>4.0</td>\n",
       "      <td>6</td>\n",
       "      <td>female</td>\n",
       "      <td>irregular</td>\n",
       "      <td>2014-01-01</td>\n",
       "    </tr>\n",
       "    <tr>\n",
       "      <th>6</th>\n",
       "      <td>200.0</td>\n",
       "      <td>200.0</td>\n",
       "      <td>Dairy</td>\n",
       "      <td>Agriculture</td>\n",
       "      <td>To purchase a dairy cow and start a milk produ...</td>\n",
       "      <td>IN</td>\n",
       "      <td>India</td>\n",
       "      <td>Maynaguri</td>\n",
       "      <td>INR</td>\n",
       "      <td>2014-01-01 09:51:02+00:00</td>\n",
       "      <td>2013-12-16 08:00:00+00:00</td>\n",
       "      <td>2014-01-01 17:18:09+00:00</td>\n",
       "      <td>43.0</td>\n",
       "      <td>8</td>\n",
       "      <td>female</td>\n",
       "      <td>bullet</td>\n",
       "      <td>2014-01-01</td>\n",
       "    </tr>\n",
       "    <tr>\n",
       "      <th>7</th>\n",
       "      <td>400.0</td>\n",
       "      <td>400.0</td>\n",
       "      <td>Beauty Salon</td>\n",
       "      <td>Services</td>\n",
       "      <td>to buy more hair and skin care products.</td>\n",
       "      <td>PK</td>\n",
       "      <td>Pakistan</td>\n",
       "      <td>Ellahabad</td>\n",
       "      <td>PKR</td>\n",
       "      <td>2014-01-01 11:46:01+00:00</td>\n",
       "      <td>2013-12-20 08:00:00+00:00</td>\n",
       "      <td>2014-01-10 18:18:44+00:00</td>\n",
       "      <td>14.0</td>\n",
       "      <td>8</td>\n",
       "      <td>female</td>\n",
       "      <td>monthly</td>\n",
       "      <td>2014-01-01</td>\n",
       "    </tr>\n",
       "    <tr>\n",
       "      <th>8</th>\n",
       "      <td>475.0</td>\n",
       "      <td>475.0</td>\n",
       "      <td>Manufacturing</td>\n",
       "      <td>Manufacturing</td>\n",
       "      <td>to purchase leather, plastic soles and heels i...</td>\n",
       "      <td>PK</td>\n",
       "      <td>Pakistan</td>\n",
       "      <td>Lahore</td>\n",
       "      <td>PKR</td>\n",
       "      <td>2014-01-01 11:49:43+00:00</td>\n",
       "      <td>2013-12-20 08:00:00+00:00</td>\n",
       "      <td>2014-01-01 18:47:21+00:00</td>\n",
       "      <td>14.0</td>\n",
       "      <td>19</td>\n",
       "      <td>female</td>\n",
       "      <td>monthly</td>\n",
       "      <td>2014-01-01</td>\n",
       "    </tr>\n",
       "    <tr>\n",
       "      <th>9</th>\n",
       "      <td>625.0</td>\n",
       "      <td>625.0</td>\n",
       "      <td>Food Production/Sales</td>\n",
       "      <td>Food</td>\n",
       "      <td>to buy a stall, gram flour, ketchup, and coal ...</td>\n",
       "      <td>PK</td>\n",
       "      <td>Pakistan</td>\n",
       "      <td>Lahore</td>\n",
       "      <td>PKR</td>\n",
       "      <td>2014-01-01 05:41:03+00:00</td>\n",
       "      <td>2013-12-17 08:00:00+00:00</td>\n",
       "      <td>2014-01-03 15:45:04+00:00</td>\n",
       "      <td>11.0</td>\n",
       "      <td>24</td>\n",
       "      <td>female</td>\n",
       "      <td>irregular</td>\n",
       "      <td>2014-01-01</td>\n",
       "    </tr>\n",
       "  </tbody>\n",
       "</table>\n",
       "</div>"
      ],
      "text/plain": [
       "   funded_amount  loan_amount               activity          sector  \\\n",
       "0          300.0        300.0    Fruits & Vegetables            Food   \n",
       "1          575.0        575.0               Rickshaw  Transportation   \n",
       "2          150.0        150.0         Transportation  Transportation   \n",
       "3          200.0        200.0             Embroidery            Arts   \n",
       "4          400.0        400.0             Milk Sales            Food   \n",
       "5          250.0        250.0               Services        Services   \n",
       "6          200.0        200.0                  Dairy     Agriculture   \n",
       "7          400.0        400.0           Beauty Salon        Services   \n",
       "8          475.0        475.0          Manufacturing   Manufacturing   \n",
       "9          625.0        625.0  Food Production/Sales            Food   \n",
       "\n",
       "                                                 use country_code   country  \\\n",
       "0            To buy seasonal, fresh fruits to sell.            PK  Pakistan   \n",
       "1  to repair and maintain the auto rickshaw used ...           PK  Pakistan   \n",
       "2  To repair their old cycle-van and buy another ...           IN     India   \n",
       "3  to purchase an embroidery machine and a variet...           PK  Pakistan   \n",
       "4                           to purchase one buffalo.           PK  Pakistan   \n",
       "5  purchase leather for my business using ksh 20000.           KE     Kenya   \n",
       "6  To purchase a dairy cow and start a milk produ...           IN     India   \n",
       "7         to buy more hair and skin care products.             PK  Pakistan   \n",
       "8  to purchase leather, plastic soles and heels i...           PK  Pakistan   \n",
       "9  to buy a stall, gram flour, ketchup, and coal ...           PK  Pakistan   \n",
       "\n",
       "         region currency                posted_time  \\\n",
       "0        Lahore      PKR  2014-01-01 06:12:39+00:00   \n",
       "1        Lahore      PKR  2014-01-01 06:51:08+00:00   \n",
       "2     Maynaguri      INR  2014-01-01 09:58:07+00:00   \n",
       "3        Lahore      PKR  2014-01-01 08:03:11+00:00   \n",
       "4  Abdul Hakeem      PKR  2014-01-01 11:53:19+00:00   \n",
       "5           NaN      KES  2014-01-01 10:06:19+00:00   \n",
       "6     Maynaguri      INR  2014-01-01 09:51:02+00:00   \n",
       "7     Ellahabad      PKR  2014-01-01 11:46:01+00:00   \n",
       "8        Lahore      PKR  2014-01-01 11:49:43+00:00   \n",
       "9        Lahore      PKR  2014-01-01 05:41:03+00:00   \n",
       "\n",
       "              disbursed_time                funded_time  term_in_months  \\\n",
       "0  2013-12-17 08:00:00+00:00  2014-01-02 10:06:32+00:00            12.0   \n",
       "1  2013-12-17 08:00:00+00:00  2014-01-02 09:17:23+00:00            11.0   \n",
       "2  2013-12-17 08:00:00+00:00  2014-01-01 16:01:36+00:00            43.0   \n",
       "3  2013-12-24 08:00:00+00:00  2014-01-01 13:00:00+00:00            11.0   \n",
       "4  2013-12-17 08:00:00+00:00  2014-01-01 19:18:51+00:00            14.0   \n",
       "5  2014-01-30 01:42:48+00:00  2014-01-29 14:14:57+00:00             4.0   \n",
       "6  2013-12-16 08:00:00+00:00  2014-01-01 17:18:09+00:00            43.0   \n",
       "7  2013-12-20 08:00:00+00:00  2014-01-10 18:18:44+00:00            14.0   \n",
       "8  2013-12-20 08:00:00+00:00  2014-01-01 18:47:21+00:00            14.0   \n",
       "9  2013-12-17 08:00:00+00:00  2014-01-03 15:45:04+00:00            11.0   \n",
       "\n",
       "   lender_count borrower_genders repayment_interval        date  \n",
       "0            12           female          irregular  2014-01-01  \n",
       "1            14   female, female          irregular  2014-01-01  \n",
       "2             6           female             bullet  2014-01-01  \n",
       "3             8           female          irregular  2014-01-01  \n",
       "4            16           female            monthly  2014-01-01  \n",
       "5             6           female          irregular  2014-01-01  \n",
       "6             8           female             bullet  2014-01-01  \n",
       "7             8           female            monthly  2014-01-01  \n",
       "8            19           female            monthly  2014-01-01  \n",
       "9            24           female          irregular  2014-01-01  "
      ]
     },
     "execution_count": 157,
     "metadata": {},
     "output_type": "execute_result"
    }
   ],
   "source": [
    "df_funded_time.head(10)"
   ]
  },
  {
   "cell_type": "code",
   "execution_count": 159,
   "metadata": {},
   "outputs": [
    {
     "name": "stdout",
     "output_type": "stream",
     "text": [
      "object\n"
     ]
    }
   ],
   "source": [
    "print(df_loans['funded_time'].dtype)"
   ]
  },
  {
   "cell_type": "code",
   "execution_count": 160,
   "metadata": {},
   "outputs": [
    {
     "data": {
      "text/plain": [
       "0    2014-01-02 10:06:32+00:00\n",
       "1    2014-01-02 09:17:23+00:00\n",
       "2    2014-01-01 16:01:36+00:00\n",
       "3    2014-01-01 13:00:00+00:00\n",
       "4    2014-01-01 19:18:51+00:00\n",
       "Name: funded_time, dtype: object"
      ]
     },
     "execution_count": 160,
     "metadata": {},
     "output_type": "execute_result"
    }
   ],
   "source": [
    "df_loans['funded_time'].head()"
   ]
  },
  {
   "cell_type": "markdown",
   "metadata": {},
   "source": [
    "I can see that 'funded_time', 'posted_time' and 'disbursed_time' are an object so I have to convert them to datetime"
   ]
  },
  {
   "cell_type": "code",
   "execution_count": 164,
   "metadata": {},
   "outputs": [],
   "source": [
    "# Convert columns to datetime\n",
    "df_loans['funded_time'] = pd.to_datetime(df_loans['funded_time'], errors='coerce')\n",
    "df_loans['posted_time'] = pd.to_datetime(df_loans['posted_time'], errors='coerce')\n",
    "df_loans['disbursed_time'] = pd.to_datetime(df_loans['disbursed_time'], errors='coerce')\n"
   ]
  },
  {
   "cell_type": "code",
   "execution_count": 166,
   "metadata": {},
   "outputs": [
    {
     "name": "stdout",
     "output_type": "stream",
     "text": [
      "funded_amount                     float64\n",
      "loan_amount                       float64\n",
      "activity                           object\n",
      "sector                             object\n",
      "use                                object\n",
      "country_code                       object\n",
      "country                            object\n",
      "region                             object\n",
      "currency                           object\n",
      "posted_time           datetime64[ns, UTC]\n",
      "disbursed_time        datetime64[ns, UTC]\n",
      "funded_time           datetime64[ns, UTC]\n",
      "term_in_months                    float64\n",
      "lender_count                        int64\n",
      "borrower_genders                   object\n",
      "repayment_interval                 object\n",
      "date                               object\n",
      "dtype: object\n"
     ]
    }
   ],
   "source": [
    "#Check the data.type\n",
    "print(df_loans.dtypes)\n"
   ]
  },
  {
   "cell_type": "code",
   "execution_count": 171,
   "metadata": {},
   "outputs": [
    {
     "data": {
      "text/plain": [
       "0        2013-12-17 08:00:00+00:00\n",
       "1        2013-12-17 08:00:00+00:00\n",
       "2        2013-12-17 08:00:00+00:00\n",
       "3        2013-12-24 08:00:00+00:00\n",
       "4        2013-12-17 08:00:00+00:00\n",
       "                    ...           \n",
       "671199   2017-07-24 07:00:00+00:00\n",
       "671200   2017-07-25 07:00:00+00:00\n",
       "671201   2017-07-24 07:00:00+00:00\n",
       "671203   2017-07-25 07:00:00+00:00\n",
       "671204   2017-07-25 07:00:00+00:00\n",
       "Name: disbursed_time, Length: 666973, dtype: datetime64[ns, UTC]"
      ]
     },
     "execution_count": 171,
     "metadata": {},
     "output_type": "execute_result"
    }
   ],
   "source": [
    "df_loans['disbursed_time']"
   ]
  },
  {
   "cell_type": "code",
   "execution_count": 167,
   "metadata": {},
   "outputs": [],
   "source": [
    "# Remove rows with missing values in 'disbursed_time' and 'funded_time'\n",
    "df_cleaned = df_loans.dropna(subset=['funded_time', 'disbursed_time'])\n"
   ]
  },
  {
   "cell_type": "code",
   "execution_count": 169,
   "metadata": {},
   "outputs": [
    {
     "name": "stdout",
     "output_type": "stream",
     "text": [
      "funded_amount         0.000000\n",
      "loan_amount           0.000000\n",
      "activity              0.000000\n",
      "sector                0.000000\n",
      "use                   0.000000\n",
      "country_code          0.001292\n",
      "country               0.000000\n",
      "region                7.296346\n",
      "currency              0.000000\n",
      "posted_time           0.000000\n",
      "disbursed_time        0.000000\n",
      "funded_time           0.000000\n",
      "term_in_months        0.000000\n",
      "lender_count          0.000000\n",
      "borrower_genders      0.000000\n",
      "repayment_interval    0.000000\n",
      "date                  0.000000\n",
      "dtype: float64\n"
     ]
    }
   ],
   "source": [
    "missing_percentage = df_cleaned.isna().mean() * 100\n",
    "\n",
    "print(missing_percentage)"
   ]
  },
  {
   "cell_type": "code",
   "execution_count": 170,
   "metadata": {},
   "outputs": [
    {
     "data": {
      "text/plain": [
       "(619310, 17)"
      ]
     },
     "execution_count": 170,
     "metadata": {},
     "output_type": "execute_result"
    }
   ],
   "source": [
    "df_cleaned.shape"
   ]
  },
  {
   "cell_type": "markdown",
   "metadata": {},
   "source": [
    "Now I can see that date.type virables are cleand so I can anlize them"
   ]
  },
  {
   "cell_type": "markdown",
   "metadata": {},
   "source": [
    "**Number of Loans Over Time**"
   ]
  },
  {
   "cell_type": "markdown",
   "metadata": {},
   "source": [
    "1. How does the number of loans given out change over time? Are there any noticeable patterns or changes during different periods, like months or years?"
   ]
  },
  {
   "cell_type": "code",
   "execution_count": 172,
   "metadata": {},
   "outputs": [
    {
     "name": "stderr",
     "output_type": "stream",
     "text": [
      "/var/folders/60/6wzpsym51m734jtcp7v8wqn40000gn/T/ipykernel_15832/3091288631.py:3: SettingWithCopyWarning: \n",
      "A value is trying to be set on a copy of a slice from a DataFrame.\n",
      "Try using .loc[row_indexer,col_indexer] = value instead\n",
      "\n",
      "See the caveats in the documentation: https://pandas.pydata.org/pandas-docs/stable/user_guide/indexing.html#returning-a-view-versus-a-copy\n",
      "  df_cleaned['year'] = df_cleaned['disbursed_time'].dt.year\n",
      "/var/folders/60/6wzpsym51m734jtcp7v8wqn40000gn/T/ipykernel_15832/3091288631.py:4: SettingWithCopyWarning: \n",
      "A value is trying to be set on a copy of a slice from a DataFrame.\n",
      "Try using .loc[row_indexer,col_indexer] = value instead\n",
      "\n",
      "See the caveats in the documentation: https://pandas.pydata.org/pandas-docs/stable/user_guide/indexing.html#returning-a-view-versus-a-copy\n",
      "  df_cleaned['month'] = df_cleaned['disbursed_time'].dt.month\n"
     ]
    }
   ],
   "source": [
    "# We create separate columns or values from a datetime field that represent the year and month components of the date\n",
    "# We extract year and month\n",
    "df_cleaned['year'] = df_cleaned['disbursed_time'].dt.year\n",
    "df_cleaned['month'] = df_cleaned['disbursed_time'].dt.month"
   ]
  },
  {
   "cell_type": "code",
   "execution_count": 176,
   "metadata": {},
   "outputs": [
    {
     "name": "stderr",
     "output_type": "stream",
     "text": [
      "/var/folders/60/6wzpsym51m734jtcp7v8wqn40000gn/T/ipykernel_15832/2247605667.py:3: SettingWithCopyWarning: \n",
      "A value is trying to be set on a copy of a slice from a DataFrame.\n",
      "Try using .loc[row_indexer,col_indexer] = value instead\n",
      "\n",
      "See the caveats in the documentation: https://pandas.pydata.org/pandas-docs/stable/user_guide/indexing.html#returning-a-view-versus-a-copy\n",
      "  df_cleaned.loc[:, 'day'] = df_cleaned['disbursed_time'].dt.day\n"
     ]
    }
   ],
   "source": [
    "df_cleaned.loc[:, 'year'] = df_cleaned['disbursed_time'].dt.year\n",
    "df_cleaned.loc[:, 'month'] = df_cleaned['disbursed_time'].dt.month\n",
    "df_cleaned.loc[:, 'day'] = df_cleaned['disbursed_time'].dt.day\n"
   ]
  },
  {
   "cell_type": "code",
   "execution_count": 177,
   "metadata": {},
   "outputs": [
    {
     "data": {
      "text/html": [
       "<div>\n",
       "<style scoped>\n",
       "    .dataframe tbody tr th:only-of-type {\n",
       "        vertical-align: middle;\n",
       "    }\n",
       "\n",
       "    .dataframe tbody tr th {\n",
       "        vertical-align: top;\n",
       "    }\n",
       "\n",
       "    .dataframe thead th {\n",
       "        text-align: right;\n",
       "    }\n",
       "</style>\n",
       "<table border=\"1\" class=\"dataframe\">\n",
       "  <thead>\n",
       "    <tr style=\"text-align: right;\">\n",
       "      <th></th>\n",
       "      <th>funded_amount</th>\n",
       "      <th>loan_amount</th>\n",
       "      <th>activity</th>\n",
       "      <th>sector</th>\n",
       "      <th>use</th>\n",
       "      <th>country_code</th>\n",
       "      <th>country</th>\n",
       "      <th>region</th>\n",
       "      <th>currency</th>\n",
       "      <th>posted_time</th>\n",
       "      <th>disbursed_time</th>\n",
       "      <th>funded_time</th>\n",
       "      <th>term_in_months</th>\n",
       "      <th>lender_count</th>\n",
       "      <th>borrower_genders</th>\n",
       "      <th>repayment_interval</th>\n",
       "      <th>date</th>\n",
       "      <th>year</th>\n",
       "      <th>month</th>\n",
       "      <th>day</th>\n",
       "    </tr>\n",
       "  </thead>\n",
       "  <tbody>\n",
       "    <tr>\n",
       "      <th>0</th>\n",
       "      <td>300.0</td>\n",
       "      <td>300.0</td>\n",
       "      <td>Fruits &amp; Vegetables</td>\n",
       "      <td>Food</td>\n",
       "      <td>To buy seasonal, fresh fruits to sell.</td>\n",
       "      <td>PK</td>\n",
       "      <td>Pakistan</td>\n",
       "      <td>Lahore</td>\n",
       "      <td>PKR</td>\n",
       "      <td>2014-01-01 06:12:39+00:00</td>\n",
       "      <td>2013-12-17 08:00:00+00:00</td>\n",
       "      <td>2014-01-02 10:06:32+00:00</td>\n",
       "      <td>12.0</td>\n",
       "      <td>12</td>\n",
       "      <td>female</td>\n",
       "      <td>irregular</td>\n",
       "      <td>2014-01-01</td>\n",
       "      <td>2013</td>\n",
       "      <td>12</td>\n",
       "      <td>17</td>\n",
       "    </tr>\n",
       "    <tr>\n",
       "      <th>1</th>\n",
       "      <td>575.0</td>\n",
       "      <td>575.0</td>\n",
       "      <td>Rickshaw</td>\n",
       "      <td>Transportation</td>\n",
       "      <td>to repair and maintain the auto rickshaw used ...</td>\n",
       "      <td>PK</td>\n",
       "      <td>Pakistan</td>\n",
       "      <td>Lahore</td>\n",
       "      <td>PKR</td>\n",
       "      <td>2014-01-01 06:51:08+00:00</td>\n",
       "      <td>2013-12-17 08:00:00+00:00</td>\n",
       "      <td>2014-01-02 09:17:23+00:00</td>\n",
       "      <td>11.0</td>\n",
       "      <td>14</td>\n",
       "      <td>female, female</td>\n",
       "      <td>irregular</td>\n",
       "      <td>2014-01-01</td>\n",
       "      <td>2013</td>\n",
       "      <td>12</td>\n",
       "      <td>17</td>\n",
       "    </tr>\n",
       "  </tbody>\n",
       "</table>\n",
       "</div>"
      ],
      "text/plain": [
       "   funded_amount  loan_amount             activity          sector  \\\n",
       "0          300.0        300.0  Fruits & Vegetables            Food   \n",
       "1          575.0        575.0             Rickshaw  Transportation   \n",
       "\n",
       "                                                 use country_code   country  \\\n",
       "0            To buy seasonal, fresh fruits to sell.            PK  Pakistan   \n",
       "1  to repair and maintain the auto rickshaw used ...           PK  Pakistan   \n",
       "\n",
       "   region currency               posted_time            disbursed_time  \\\n",
       "0  Lahore      PKR 2014-01-01 06:12:39+00:00 2013-12-17 08:00:00+00:00   \n",
       "1  Lahore      PKR 2014-01-01 06:51:08+00:00 2013-12-17 08:00:00+00:00   \n",
       "\n",
       "                funded_time  term_in_months  lender_count borrower_genders  \\\n",
       "0 2014-01-02 10:06:32+00:00            12.0            12           female   \n",
       "1 2014-01-02 09:17:23+00:00            11.0            14   female, female   \n",
       "\n",
       "  repayment_interval        date  year  month  day  \n",
       "0          irregular  2014-01-01  2013     12   17  \n",
       "1          irregular  2014-01-01  2013     12   17  "
      ]
     },
     "execution_count": 177,
     "metadata": {},
     "output_type": "execute_result"
    }
   ],
   "source": [
    "df_cleaned.head(2)"
   ]
  },
  {
   "cell_type": "code",
   "execution_count": 178,
   "metadata": {},
   "outputs": [
    {
     "name": "stderr",
     "output_type": "stream",
     "text": [
      "/var/folders/60/6wzpsym51m734jtcp7v8wqn40000gn/T/ipykernel_15832/1811607187.py:2: UserWarning: Converting to PeriodArray/Index representation will drop timezone information.\n",
      "  df_cleaned['year_month'] = df_cleaned['disbursed_time'].dt.to_period('M')\n",
      "/var/folders/60/6wzpsym51m734jtcp7v8wqn40000gn/T/ipykernel_15832/1811607187.py:2: SettingWithCopyWarning: \n",
      "A value is trying to be set on a copy of a slice from a DataFrame.\n",
      "Try using .loc[row_indexer,col_indexer] = value instead\n",
      "\n",
      "See the caveats in the documentation: https://pandas.pydata.org/pandas-docs/stable/user_guide/indexing.html#returning-a-view-versus-a-copy\n",
      "  df_cleaned['year_month'] = df_cleaned['disbursed_time'].dt.to_period('M')\n"
     ]
    }
   ],
   "source": [
    "# Create a 'year_month' column for easy grouping\n",
    "df_cleaned['year_month'] = df_cleaned['disbursed_time'].dt.to_period('M')\n"
   ]
  },
  {
   "cell_type": "code",
   "execution_count": 179,
   "metadata": {},
   "outputs": [
    {
     "data": {
      "text/html": [
       "<div>\n",
       "<style scoped>\n",
       "    .dataframe tbody tr th:only-of-type {\n",
       "        vertical-align: middle;\n",
       "    }\n",
       "\n",
       "    .dataframe tbody tr th {\n",
       "        vertical-align: top;\n",
       "    }\n",
       "\n",
       "    .dataframe thead th {\n",
       "        text-align: right;\n",
       "    }\n",
       "</style>\n",
       "<table border=\"1\" class=\"dataframe\">\n",
       "  <thead>\n",
       "    <tr style=\"text-align: right;\">\n",
       "      <th></th>\n",
       "      <th>funded_amount</th>\n",
       "      <th>loan_amount</th>\n",
       "      <th>activity</th>\n",
       "      <th>sector</th>\n",
       "      <th>use</th>\n",
       "      <th>country_code</th>\n",
       "      <th>country</th>\n",
       "      <th>region</th>\n",
       "      <th>currency</th>\n",
       "      <th>posted_time</th>\n",
       "      <th>...</th>\n",
       "      <th>funded_time</th>\n",
       "      <th>term_in_months</th>\n",
       "      <th>lender_count</th>\n",
       "      <th>borrower_genders</th>\n",
       "      <th>repayment_interval</th>\n",
       "      <th>date</th>\n",
       "      <th>year</th>\n",
       "      <th>month</th>\n",
       "      <th>day</th>\n",
       "      <th>year_month</th>\n",
       "    </tr>\n",
       "  </thead>\n",
       "  <tbody>\n",
       "    <tr>\n",
       "      <th>0</th>\n",
       "      <td>300.0</td>\n",
       "      <td>300.0</td>\n",
       "      <td>Fruits &amp; Vegetables</td>\n",
       "      <td>Food</td>\n",
       "      <td>To buy seasonal, fresh fruits to sell.</td>\n",
       "      <td>PK</td>\n",
       "      <td>Pakistan</td>\n",
       "      <td>Lahore</td>\n",
       "      <td>PKR</td>\n",
       "      <td>2014-01-01 06:12:39+00:00</td>\n",
       "      <td>...</td>\n",
       "      <td>2014-01-02 10:06:32+00:00</td>\n",
       "      <td>12.0</td>\n",
       "      <td>12</td>\n",
       "      <td>female</td>\n",
       "      <td>irregular</td>\n",
       "      <td>2014-01-01</td>\n",
       "      <td>2013</td>\n",
       "      <td>12</td>\n",
       "      <td>17</td>\n",
       "      <td>2013-12</td>\n",
       "    </tr>\n",
       "    <tr>\n",
       "      <th>1</th>\n",
       "      <td>575.0</td>\n",
       "      <td>575.0</td>\n",
       "      <td>Rickshaw</td>\n",
       "      <td>Transportation</td>\n",
       "      <td>to repair and maintain the auto rickshaw used ...</td>\n",
       "      <td>PK</td>\n",
       "      <td>Pakistan</td>\n",
       "      <td>Lahore</td>\n",
       "      <td>PKR</td>\n",
       "      <td>2014-01-01 06:51:08+00:00</td>\n",
       "      <td>...</td>\n",
       "      <td>2014-01-02 09:17:23+00:00</td>\n",
       "      <td>11.0</td>\n",
       "      <td>14</td>\n",
       "      <td>female, female</td>\n",
       "      <td>irregular</td>\n",
       "      <td>2014-01-01</td>\n",
       "      <td>2013</td>\n",
       "      <td>12</td>\n",
       "      <td>17</td>\n",
       "      <td>2013-12</td>\n",
       "    </tr>\n",
       "  </tbody>\n",
       "</table>\n",
       "<p>2 rows × 21 columns</p>\n",
       "</div>"
      ],
      "text/plain": [
       "   funded_amount  loan_amount             activity          sector  \\\n",
       "0          300.0        300.0  Fruits & Vegetables            Food   \n",
       "1          575.0        575.0             Rickshaw  Transportation   \n",
       "\n",
       "                                                 use country_code   country  \\\n",
       "0            To buy seasonal, fresh fruits to sell.            PK  Pakistan   \n",
       "1  to repair and maintain the auto rickshaw used ...           PK  Pakistan   \n",
       "\n",
       "   region currency               posted_time  ...               funded_time  \\\n",
       "0  Lahore      PKR 2014-01-01 06:12:39+00:00  ... 2014-01-02 10:06:32+00:00   \n",
       "1  Lahore      PKR 2014-01-01 06:51:08+00:00  ... 2014-01-02 09:17:23+00:00   \n",
       "\n",
       "  term_in_months  lender_count  borrower_genders repayment_interval  \\\n",
       "0           12.0            12            female          irregular   \n",
       "1           11.0            14    female, female          irregular   \n",
       "\n",
       "         date  year  month  day  year_month  \n",
       "0  2014-01-01  2013     12   17     2013-12  \n",
       "1  2014-01-01  2013     12   17     2013-12  \n",
       "\n",
       "[2 rows x 21 columns]"
      ]
     },
     "execution_count": 179,
     "metadata": {},
     "output_type": "execute_result"
    }
   ],
   "source": [
    "df_cleaned.head(2)"
   ]
  },
  {
   "cell_type": "code",
   "execution_count": 202,
   "metadata": {},
   "outputs": [],
   "source": [
    "# Count the number of loans in each month\n",
    "loans_per_month = df_cleaned.groupby('month').size()\n"
   ]
  },
  {
   "cell_type": "code",
   "execution_count": 203,
   "metadata": {},
   "outputs": [
    {
     "name": "stdout",
     "output_type": "stream",
     "text": [
      "month\n",
      "1     53067\n",
      "2     68045\n",
      "3     65505\n",
      "4     58991\n",
      "5     60499\n",
      "6     49590\n",
      "7     43009\n",
      "8     42852\n",
      "9     43551\n",
      "10    44384\n",
      "11    42854\n",
      "12    46963\n",
      "dtype: int64\n"
     ]
    }
   ],
   "source": [
    "print(loans_per_month)"
   ]
  },
  {
   "cell_type": "code",
   "execution_count": 205,
   "metadata": {},
   "outputs": [
    {
     "data": {
      "image/png": "[encoded data removed]",
      "text/plain": [
       "<Figure size 1200x600 with 1 Axes>"
      ]
     },
     "metadata": {},
     "output_type": "display_data"
    }
   ],
   "source": [
    "#Vizualization loans_per_month\n",
    "plt.figure(figsize=(12, 6))\n",
    "loans_per_month.plot(kind='bar', color='skyblue')  # Use 'skyblue' for better visibility\n",
    "plt.title('Number of Loans Disbursed Per Month')\n",
    "plt.xlabel('Month')\n",
    "plt.ylabel('Number of Loans Disbursed')\n",
    "plt.xticks(ticks=range(0, 12), labels=['Jan', 'Feb', 'Mar', 'Apr', 'May', 'Jun', 'Jul', 'Aug', 'Sep', 'Oct', 'Nov', 'Dec'], rotation=45)  # Label months\n",
    "plt.grid(True)\n",
    "plt.tight_layout()\n",
    "plt.show()\n"
   ]
  },
  {
   "cell_type": "code",
   "execution_count": 208,
   "metadata": {},
   "outputs": [],
   "source": [
    "# Count the number of loans in each year\n",
    "loans_per_year = df_cleaned.groupby('year').size()"
   ]
  },
  {
   "cell_type": "code",
   "execution_count": 209,
   "metadata": {},
   "outputs": [
    {
     "name": "stdout",
     "output_type": "stream",
     "text": [
      "year\n",
      "2013      5349\n",
      "2014    159561\n",
      "2015    170383\n",
      "2016    183006\n",
      "2017    101011\n",
      "dtype: int64\n"
     ]
    }
   ],
   "source": [
    "print(loans_per_year)"
   ]
  },
  {
   "cell_type": "code",
   "execution_count": 210,
   "metadata": {},
   "outputs": [
    {
     "data": {
      "image/png": "[encoded data removed]",
      "text/plain": [
       "<Figure size 1200x600 with 1 Axes>"
      ]
     },
     "metadata": {},
     "output_type": "display_data"
    }
   ],
   "source": [
    "# Visualization: number of loans per year\n",
    "plt.figure(figsize=(12, 6))\n",
    "loans_per_year.plot(kind='bar', color='lightgreen')  # Use 'lightgreen' for visibility\n",
    "plt.title('Number of Loans Disbursed Per Year')\n",
    "plt.xlabel('Year')\n",
    "plt.ylabel('Number of Loans Disbursed')\n",
    "plt.xticks(rotation=45)  # Rotate x-axis labels for better readability\n",
    "plt.grid(True)\n",
    "plt.tight_layout()\n",
    "plt.show()\n"
   ]
  },
  {
   "cell_type": "markdown",
   "metadata": {},
   "source": [
    "**Disbursed Amount Over Time**\n",
    "\n",
    "\n",
    "This analysis looks at the total and average amount of money that was actually disbursed in the loans over time."
   ]
  },
  {
   "cell_type": "code",
   "execution_count": 216,
   "metadata": {},
   "outputs": [
    {
     "name": "stdout",
     "output_type": "stream",
     "text": [
      "The total sum of all loan amounts is: 493450050.0\n"
     ]
    }
   ],
   "source": [
    "# Calculate the total sum of 'loan_amount'\n",
    "total_loan_amount = df_cleaned['loan_amount'].sum()\n",
    "\n",
    "print(\"The total sum of all loan amounts is:\", total_loan_amount)"
   ]
  },
  {
   "cell_type": "code",
   "execution_count": 213,
   "metadata": {},
   "outputs": [
    {
     "name": "stdout",
     "output_type": "stream",
     "text": [
      "The average loan amount is: 796.7739096736691\n"
     ]
    }
   ],
   "source": [
    "# Calculate the overall average loan amount\n",
    "average_loan_amount = df_cleaned['loan_amount'].mean()\n",
    "\n",
    "print(\"The average loan amount is:\", average_loan_amount)"
   ]
  },
  {
   "cell_type": "code",
   "execution_count": 214,
   "metadata": {},
   "outputs": [
    {
     "name": "stdout",
     "output_type": "stream",
     "text": [
      "The overall median loan amount is: 450.0\n"
     ]
    }
   ],
   "source": [
    "# Calculate the overall median of 'loan_amount'\n",
    "median_loan_amount = df_cleaned['loan_amount'].median()\n",
    "\n",
    "print(\"The overall median loan amount is:\", median_loan_amount)"
   ]
  },
  {
   "cell_type": "code",
   "execution_count": 215,
   "metadata": {},
   "outputs": [
    {
     "name": "stdout",
     "output_type": "stream",
     "text": [
      "The overall variance of loan amounts is: 1316414.4686785308\n"
     ]
    }
   ],
   "source": [
    "# Calculate the overall variance of 'loan_amount'\n",
    "variance_loan_amount = df_cleaned['loan_amount'].var()\n",
    "\n",
    "print(\"The overall variance of loan amounts is:\", variance_loan_amount)"
   ]
  },
  {
   "cell_type": "markdown",
   "metadata": {},
   "source": [
    "Now I will focus on months and years"
   ]
  },
  {
   "cell_type": "code",
   "execution_count": 217,
   "metadata": {},
   "outputs": [],
   "source": [
    "#Total loan amount per month\n",
    "\n",
    "total_loan_per_month = df_cleaned.groupby('month')['loan_amount'].sum()"
   ]
  },
  {
   "cell_type": "code",
   "execution_count": 218,
   "metadata": {},
   "outputs": [
    {
     "name": "stdout",
     "output_type": "stream",
     "text": [
      "month\n",
      "1     42751575.0\n",
      "2     53746675.0\n",
      "3     52309700.0\n",
      "4     47245850.0\n",
      "5     46280475.0\n",
      "6     39354700.0\n",
      "7     34446200.0\n",
      "8     33454225.0\n",
      "9     34431525.0\n",
      "10    34595700.0\n",
      "11    35174425.0\n",
      "12    39659000.0\n",
      "Name: loan_amount, dtype: float64\n"
     ]
    }
   ],
   "source": [
    "print(total_loan_per_month)"
   ]
  },
  {
   "cell_type": "code",
   "execution_count": 224,
   "metadata": {},
   "outputs": [],
   "source": [
    "# Group by 'month' and calculate the average of 'loan_amount' for each month\n",
    "average_loan_amount_per_month = df_cleaned.groupby('month')['loan_amount'].mean()\n"
   ]
  },
  {
   "cell_type": "code",
   "execution_count": 225,
   "metadata": {},
   "outputs": [
    {
     "name": "stdout",
     "output_type": "stream",
     "text": [
      "month\n",
      "1     805.615072\n",
      "2     789.869572\n",
      "3     798.560415\n",
      "4     800.899290\n",
      "5     764.979173\n",
      "6     793.601533\n",
      "7     800.906787\n",
      "8     780.692266\n",
      "9     790.602397\n",
      "10    779.463320\n",
      "11    820.796775\n",
      "12    844.473309\n",
      "Name: loan_amount, dtype: float64\n"
     ]
    }
   ],
   "source": [
    "print(average_loan_amount_per_month)"
   ]
  },
  {
   "cell_type": "code",
   "execution_count": 234,
   "metadata": {},
   "outputs": [
    {
     "data": {
      "image/png": "[encoded data removed]",
      "text/plain": [
       "<Figure size 1000x600 with 1 Axes>"
      ]
     },
     "metadata": {},
     "output_type": "display_data"
    }
   ],
   "source": [
    "\n",
    "months = range(0, 12)  \n",
    "month_labels = ['Jan', 'Feb', 'Mar', 'Apr', 'May', 'Jun', 'Jul', 'Aug', 'Sep', 'Oct', 'Nov', 'Dec']\n",
    "\n",
    "plt.figure(figsize=(10, 6))\n",
    "average_loan_amount_per_month.plot(kind='bar', color='skyblue')\n",
    "plt.title('Average Loan Amount Disbursed Per Month')\n",
    "plt.xlabel('Month')\n",
    "plt.ylabel('Average Loan Amount ($)')\n",
    "plt.xticks(ticks=months, labels=month_labels, rotation=0)  # Correctly set ticks and labels\n",
    "plt.grid(True, which='both', linestyle='--', linewidth=0.5)\n",
    "plt.tight_layout()\n",
    "plt.show()"
   ]
  },
  {
   "cell_type": "code",
   "execution_count": 230,
   "metadata": {},
   "outputs": [],
   "source": [
    "# Now we calculate avreage loan amount per year\n",
    "average_loan_amount_per_year=df_cleaned.groupby('year')['loan_amount'].mean()"
   ]
  },
  {
   "cell_type": "code",
   "execution_count": 231,
   "metadata": {},
   "outputs": [
    {
     "name": "stdout",
     "output_type": "stream",
     "text": [
      "year\n",
      "2013    915.016826\n",
      "2014    844.390547\n",
      "2015    812.581801\n",
      "2016    778.553435\n",
      "2017    721.641702\n",
      "Name: loan_amount, dtype: float64\n"
     ]
    }
   ],
   "source": [
    "print(average_loan_amount_per_year)"
   ]
  },
  {
   "cell_type": "code",
   "execution_count": 233,
   "metadata": {},
   "outputs": [
    {
     "data": {
      "image/png": "[encoded data removed]",
      "text/plain": [
       "<Figure size 1000x600 with 1 Axes>"
      ]
     },
     "metadata": {},
     "output_type": "display_data"
    }
   ],
   "source": [
    "# Plotting the average loan amount per year\n",
    "plt.figure(figsize=(10, 6))  # Set the figure size for better visibility\n",
    "average_loan_amount_per_year.plot(kind='bar', color='teal')  # Use a bar chart and color it teal for aesthetics\n",
    "plt.title('Average Loan Amount Disbursed Per Year')  # Add a title\n",
    "plt.xlabel('Year')  # Label the x-axis\n",
    "plt.ylabel('Average Loan Amount ($)')  # Label the y-axis\n",
    "plt.xticks(rotation=0)  # Rotate x-axis labels to show years clearly\n",
    "plt.grid(True, which='both', linestyle='--', linewidth=0.5)  # Add gridlines for readability\n",
    "plt.tight_layout()  # Adjust layout to prevent clipping of tick labels\n",
    "plt.show()"
   ]
  },
  {
   "cell_type": "code",
   "execution_count": 236,
   "metadata": {},
   "outputs": [
    {
     "data": {
      "image/png": "[encoded data removed]",
      "text/plain": [
       "<Figure size 1200x800 with 1 Axes>"
      ]
     },
     "metadata": {},
     "output_type": "display_data"
    }
   ],
   "source": [
    "#Distribution of Loan Amounts by year\n",
    "plt.figure(figsize=(12, 8))\n",
    "sns.boxplot(x='year', y='loan_amount', data=df_cleaned)\n",
    "plt.title('Distribution of Loan Amounts by Year')\n",
    "plt.xlabel('Year')\n",
    "plt.ylabel('Loan Amount')\n",
    "plt.show()"
   ]
  }
 ],
 "metadata": {
  "kernelspec": {
   "display_name": "Python 3",
   "language": "python",
   "name": "python3"
  },
  "language_info": {
   "codemirror_mode": {
    "name": "ipython",
    "version": 3
   },
   "file_extension": ".py",
   "mimetype": "text/x-python",
   "name": "python",
   "nbconvert_exporter": "python",
   "pygments_lexer": "ipython3",
   "version": "3.12.0"
  }
 },
 "nbformat": 4,
 "nbformat_minor": 2
}
